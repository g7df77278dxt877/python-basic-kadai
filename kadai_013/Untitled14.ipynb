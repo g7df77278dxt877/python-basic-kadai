{
  "nbformat": 4,
  "nbformat_minor": 0,
  "metadata": {
    "colab": {
      "provenance": []
    },
    "kernelspec": {
      "name": "python3",
      "display_name": "Python 3"
    },
    "language_info": {
      "name": "python"
    }
  },
  "cells": [
    {
      "cell_type": "code",
      "execution_count": 1,
      "metadata": {
        "colab": {
          "base_uri": "https://localhost:8080/"
        },
        "id": "-59vTUsusUdE",
        "outputId": "d4674fda-830c-4a3b-e6b0-9d572013e7d6"
      },
      "outputs": [
        {
          "output_type": "stream",
          "name": "stdout",
          "text": [
            "税込み価格は121.0円です\n"
          ]
        }
      ],
      "source": [
        "def calculate_total(prise,tax):\n",
        "    tax=prise*tax\n",
        "    total=prise+tax\n",
        "    return total\n",
        "\n",
        "result= calculate_total(110,0.1)\n",
        "print(f\"税込み価格は{result}円です\")"
      ]
    }
  ]
}