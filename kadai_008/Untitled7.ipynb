{
  "nbformat": 4,
  "nbformat_minor": 0,
  "metadata": {
    "colab": {
      "provenance": []
    },
    "kernelspec": {
      "name": "python3",
      "display_name": "Python 3"
    },
    "language_info": {
      "name": "python"
    }
  },
  "cells": [
    {
      "cell_type": "code",
      "execution_count": 29,
      "metadata": {
        "colab": {
          "base_uri": "https://localhost:8080/"
        },
        "id": "Ss9z8BuPjtIc",
        "outputId": "8f35d939-d8e7-4254-e501-c3b232fdfbda"
      },
      "outputs": [
        {
          "output_type": "stream",
          "name": "stdout",
          "text": [
            "15\n",
            "Fizz\n",
            "FizzBuzz\n"
          ]
        }
      ],
      "source": [
        "import random\n",
        "\n",
        "var=random.randint(1,15)\n",
        "\n",
        "print(var)\n",
        "\n",
        "if var%3==0:\n",
        "    print(\"Fizz\")\n",
        "elif var%5==0:\n",
        "    print(\"Buzz\")\n",
        "if var%3==0 and var%5==0:\n",
        "    print(\"FizzBuzz\")\n",
        "else:\n",
        "    print(\"var\")\n",
        "\n",
        "\n"
      ]
    }
  ]
}