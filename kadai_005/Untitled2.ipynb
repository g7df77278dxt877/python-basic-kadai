{
  "nbformat": 4,
  "nbformat_minor": 0,
  "metadata": {
    "colab": {
      "provenance": []
    },
    "kernelspec": {
      "name": "python3",
      "display_name": "Python 3"
    },
    "language_info": {
      "name": "python"
    }
  },
  "cells": [
    {
      "cell_type": "code",
      "source": [
        "upmost=10\n",
        "down=20\n",
        "high=5\n",
        "\n",
        "\n",
        "area_of_trapezoid_=(upmost+down)*high/2\n",
        "unit=\"cm2\"\n",
        "\n",
        "print(f\"面積は{area_of_trapezoid_}{unit}です\")\n",
        "\n",
        "\n",
        "\n",
        "\n",
        "\n"
      ],
      "metadata": {
        "colab": {
          "base_uri": "https://localhost:8080/"
        },
        "id": "6rAY9y62lGW2",
        "outputId": "ecb78c15-6092-4cab-e0b5-bee3d6171917"
      },
      "execution_count": 64,
      "outputs": [
        {
          "output_type": "stream",
          "name": "stdout",
          "text": [
            "面積は75.0cm2です\n"
          ]
        }
      ]
    }
  ]
}