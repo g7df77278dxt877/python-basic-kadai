{
  "nbformat": 4,
  "nbformat_minor": 0,
  "metadata": {
    "colab": {
      "provenance": []
    },
    "kernelspec": {
      "name": "python3",
      "display_name": "Python 3"
    },
    "language_info": {
      "name": "python"
    }
  },
  "cells": [
    {
      "cell_type": "code",
      "source": [
        "upmost=10\n",
        "down=20\n",
        "high=5\n",
        "\n",
        "\n",
        "area_of_trapezoid_=(upmost+down)*high/2\n",
        "unit=\"cm²\"\n",
        "\n",
        "print(f\"面積は{area_of_trapezoid_}{unit}です\")\n",
        "\n",
        "\n",
        "\n",
        "\n",
        "\n"
      ],
      "metadata": {
        "colab": {
          "base_uri": "https://localhost:8080/"
        },
        "id": "6rAY9y62lGW2",
        "outputId": "6a25771b-9b5d-4c5f-bcbf-3ac45e04d35e"
      },
      "execution_count": 65,
      "outputs": [
        {
          "output_type": "stream",
          "name": "stdout",
          "text": [
            "面積は75.0cm²です\n"
          ]
        }
      ]
    }
  ]
}