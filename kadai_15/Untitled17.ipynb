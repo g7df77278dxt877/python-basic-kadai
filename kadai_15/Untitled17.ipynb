{
  "nbformat": 4,
  "nbformat_minor": 0,
  "metadata": {
    "colab": {
      "provenance": []
    },
    "kernelspec": {
      "name": "python3",
      "display_name": "Python 3"
    },
    "language_info": {
      "name": "python"
    }
  },
  "cells": [
    {
      "cell_type": "code",
      "execution_count": 3,
      "metadata": {
        "colab": {
          "base_uri": "https://localhost:8080/"
        },
        "id": "j1hJ5-ZBdP_G",
        "outputId": "c441f07d-c38d-4a59-84b2-94bcd09909d4"
      },
      "outputs": [
        {
          "output_type": "stream",
          "name": "stdout",
          "text": [
            "名前は吉武です\n",
            "年齢は40です\n"
          ]
        }
      ],
      "source": [
        "class human:\n",
        "    def __init__(self,name,age):\n",
        "        self.name=name\n",
        "        self.age=age\n",
        "\n",
        "    def printinfo(self):\n",
        "        print(f\"名前は{self.name}です\")\n",
        "        print(f\"年齢は{self.age}です\")\n",
        "\n",
        "person=human(\"吉武\",\"40\")\n",
        "\n",
        "person.printinfo()\n",
        "\n",
        "\n"
      ]
    }
  ]
}